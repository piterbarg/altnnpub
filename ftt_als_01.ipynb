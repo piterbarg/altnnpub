{
 "cells": [
  {
   "cell_type": "markdown",
   "metadata": {},
   "source": [
    "# Functional Tensor Train (fTT) approximation using the ALS algorithm"
   ]
  },
  {
   "cell_type": "code",
   "execution_count": null,
   "metadata": {},
   "outputs": [],
   "source": [
    "%load_ext autoreload\n",
    "%autoreload 2\n",
    "# %matplotlib widget"
   ]
  },
  {
   "cell_type": "code",
   "execution_count": null,
   "metadata": {},
   "outputs": [],
   "source": [
    "import time\n",
    "import numpy as np\n",
    "import pandas as pd\n",
    "from matplotlib import cm\n",
    "from tensorflow import keras\n",
    "import matplotlib.pyplot as plt\n",
    " \n",
    "# our stuff\n",
    "from nnu import gss_kernels as ssk\n",
    "from nnu import ftt_regression as ftt\n",
    "from nnu import points_generator as pgen\n",
    "from nnu import gss_report_generator as ssrg\n"
   ]
  },
  {
   "cell_type": "markdown",
   "metadata": {},
   "source": [
    "## Create the function to fit and sample it randomly"
   ]
  },
  {
   "cell_type": "code",
   "execution_count": null,
   "metadata": {},
   "outputs": [],
   "source": [
    "ndim = 2 # 3 # 5\n",
    "sim_range = 4\n",
    "\n",
    "nx = 10000\n",
    "input_seed = 1917\n",
    "xs = pgen.generate_points(\n",
    "    sim_range, nx, ndim, 'random', seed=input_seed)[0]\n",
    "\n",
    "input_f_spec = 'laplace_1' # 'midrank_0'\n",
    "genres = ssrg.generate_inputs_and_nodes(\n",
    "    ndim=ndim,\n",
    "    nsamples=nx,\n",
    "    nnodes=nx,\n",
    "    input_f_spec=input_f_spec,\n",
    "    input_seed=input_seed,\n",
    "    nsr_stretch=1.0,\n",
    "    sim_range = sim_range,\n",
    "    )\n",
    "func = genres[-1]\n",
    "ys = func(xs)"
   ]
  },
  {
   "cell_type": "markdown",
   "metadata": {},
   "source": [
    "## Create (1D) nodes, same for each dimension"
   ]
  },
  {
   "cell_type": "code",
   "execution_count": null,
   "metadata": {},
   "outputs": [],
   "source": [
    "nnodes = 2*int(pow(nx, 1.0/ndim))\n",
    "kernel = 'invquad'\n",
    "scale_mult = 4.0\n",
    "stretch = 1.1 \n",
    "\n",
    "global_scale = 2*sim_range*stretch / nnodes\n",
    "knl_f = ssk.global_kernel_dict(global_scale * scale_mult)[kernel]\n",
    "nodes = np.linspace(-sim_range*stretch, sim_range*stretch, nnodes, endpoint=True)"
   ]
  },
  {
   "cell_type": "markdown",
   "metadata": {},
   "source": [
    "## Specify the TT ranks"
   ]
  },
  {
   "cell_type": "code",
   "execution_count": null,
   "metadata": {},
   "outputs": [],
   "source": [
    "tt_flat_rank = 3\n",
    "tt_ranks = [1] + [tt_flat_rank]*(ndim-1) + [1]"
   ]
  },
  {
   "cell_type": "markdown",
   "metadata": {},
   "source": [
    "## Perform fitting via ALS"
   ]
  },
  {
   "cell_type": "code",
   "execution_count": null,
   "metadata": {},
   "outputs": [],
   "source": [
    "# How many iterations. Here hard-coded for simplicity\n",
    "n_iter = 5\n",
    "\n",
    "start_time = time.time()\n",
    "bf_vals = ftt.basis_function_values(xs, nodes, knl_f)\n",
    "np.random.seed(input_seed)\n",
    "init_val = None\n",
    "\n",
    "tt_cores = ftt.init_tt(tt_ranks, nnodes, init_val=init_val)\n",
    "\n",
    "\n",
    "for iter in range(n_iter):\n",
    "    for d in range(ndim):\n",
    "        tt_cores, ys_fit = ftt.solve_for_dimension(\n",
    "            d=d, tt_cores=tt_cores, bf_vals=bf_vals, ys=ys)\n",
    "\n",
    "    r2 = 1 - np.linalg.norm(ys_fit - ys)/np.linalg.norm(ys)\n",
    "    print(f'iter = {iter} r2 = {r2:.4f}')\n",
    "end_time = time.time()\n",
    "print(f'time elapsed = {end_time - start_time:0.2f} sec')"
   ]
  },
  {
   "cell_type": "markdown",
   "metadata": {},
   "source": [
    "## Explore the results"
   ]
  },
  {
   "cell_type": "code",
   "execution_count": null,
   "metadata": {},
   "outputs": [],
   "source": [
    "%matplotlib inline\n",
    "plt.plot(ys, ys_fit, '.', label = 'fit vs actual')\n",
    "plt.legend(loc = 'best')\n",
    "plt.show()\n"
   ]
  },
  {
   "cell_type": "markdown",
   "metadata": {},
   "source": [
    "## Apply the model to a new (test) set and see the results"
   ]
  },
  {
   "cell_type": "code",
   "execution_count": null,
   "metadata": {},
   "outputs": [],
   "source": [
    "test_seed = input_seed * 2\n",
    "x_test = pgen.generate_points(\n",
    "    sim_range, nx, ndim, 'random', seed=test_seed)[0]\n",
    "y_test_act = func(x_test)\n",
    "y_test_fit = ftt.predict(x_test, tt_cores, knl_f, nodes)\n",
    "test_mse = np.linalg.norm(y_test_fit - y_test_act)/np.linalg.norm(y_test_act)\n",
    "print(f'learn mse = {1-r2:.4f}')\n",
    "print(f'test mse = {test_mse:.4f}')"
   ]
  },
  {
   "cell_type": "code",
   "execution_count": null,
   "metadata": {},
   "outputs": [],
   "source": [
    "# %matplotlib auto\n",
    "%matplotlib inline\n",
    "f1 = plt.figure()\n",
    "ax = f1.add_subplot(projection='3d')\n",
    "\n",
    "ax.scatter(xs[:,0],xs[:,1],ys,  # c=ys,\n",
    "           cmap=cm.coolwarm, marker='.', alpha = 0.75, s=1, label = 'actual')\n",
    "ax.scatter(xs[:,0],xs[:,1],ys_fit,  # c=ys,\n",
    "           cmap=cm.coolwarm, marker='.', alpha = 0.75, s=1, label = 'fit')\n",
    "plt.title('Actual vs fit')\n",
    "plt.legend(loc = 'best')\n",
    "plt.show()"
   ]
  },
  {
   "cell_type": "code",
   "execution_count": null,
   "metadata": {},
   "outputs": [],
   "source": [
    "# %matplotlib auto\n",
    "%matplotlib inline\n",
    "normalize = True\n",
    "plot_nodes = np.linspace(-sim_range, sim_range, nnodes, endpoint=True)\n",
    "nodes_nd = np.repeat(plot_nodes.reshape(-1,1),ndim,axis=1)\n",
    "for d in range(ndim):\n",
    "    for i in range(tt_cores[d].shape[0]):\n",
    "        for j in range(tt_cores[d].shape[2]):\n",
    "            f = ftt.get_function(d, i, j, tt_cores, knl_f, nodes)\n",
    "            label = f'{d}:{i}:{j}'\n",
    "            fs = f(nodes_nd)\n",
    "            if normalize:\n",
    "                fs = fs/np.max(np.abs(fs))\n",
    "            plt.plot(plot_nodes, fs, '.-',\n",
    "                        markersize=1, label=label)\n",
    "plt.legend(loc='best')\n",
    "plt.title(f'fTT functions vs nodes, normalized = {normalize}')\n",
    "plt.show()\n"
   ]
  }
 ],
 "metadata": {
  "interpreter": {
   "hash": "c75fd95ee6a8673db96eeaeea4fa8e27c3cb071aef74affedb213b23408cb297"
  },
  "kernelspec": {
   "display_name": "Python 3.8.8 64-bit ('base': venv)",
   "name": "python3"
  },
  "language_info": {
   "codemirror_mode": {
    "name": "ipython",
    "version": 3
   },
   "file_extension": ".py",
   "mimetype": "text/x-python",
   "name": "python",
   "nbconvert_exporter": "python",
   "pygments_lexer": "ipython3",
   "version": "3.8.8"
  },
  "orig_nbformat": 4
 },
 "nbformat": 4,
 "nbformat_minor": 2
}
