{
 "cells": [
  {
   "cell_type": "markdown",
   "metadata": {},
   "source": [
    "# Low-rank functional approximation  by hand\n",
    "This is just an illustrative example of ALS applied to calculate successive  rank-1 approximations "
   ]
  },
  {
   "cell_type": "code",
   "execution_count": null,
   "metadata": {},
   "outputs": [],
   "source": [
    "%load_ext autoreload\n",
    "%autoreload 2\n",
    "# %matplotlib widget"
   ]
  },
  {
   "cell_type": "code",
   "execution_count": null,
   "metadata": {},
   "outputs": [],
   "source": [
    "import numpy as np\n",
    "from matplotlib import cm\n",
    "from tensorflow import keras\n",
    "import matplotlib.pyplot as plt\n",
    "from sklearn.linear_model import Ridge\n",
    " \n",
    "# our stuff\n",
    "from nnu import gss_kernels as ssk\n",
    "from nnu import points_generator as pgen\n",
    "from nnu import gss_report_generator as ssrg\n"
   ]
  },
  {
   "cell_type": "markdown",
   "metadata": {},
   "source": [
    "## Create the function to fit and sample it randomly"
   ]
  },
  {
   "cell_type": "code",
   "execution_count": null,
   "metadata": {},
   "outputs": [],
   "source": [
    "ndim = 2 \n",
    "sim_range = 4\n",
    "\n",
    "stretch = 1.1 \n",
    "nx = 10000\n",
    "input_seed = 1917\n",
    "xs = pgen.generate_points(\n",
    "    sim_range*stretch, nx, ndim, 'random', seed=input_seed)[0]"
   ]
  },
  {
   "cell_type": "code",
   "execution_count": null,
   "metadata": {},
   "outputs": [],
   "source": [
    "input_f_spec = 'laplace_1'\n",
    "genres =  ssrg.generate_inputs_and_nodes(\n",
    "    ndim = ndim,\n",
    "    nsamples = nx,\n",
    "    nnodes = nx,\n",
    "    input_f_spec = input_f_spec,\n",
    "    input_seed=input_seed,\n",
    "    nsr_stretch=1.0,\n",
    ")\n",
    "func = genres[-1]\n",
    "ys = func(xs)"
   ]
  },
  {
   "cell_type": "markdown",
   "metadata": {},
   "source": [
    "## Calculate nodes and basis function matrices"
   ]
  },
  {
   "cell_type": "code",
   "execution_count": null,
   "metadata": {},
   "outputs": [],
   "source": [
    "nnodes = 2*int(pow(nx, 1.0/ndim))\n",
    "kernel = 'invquad'\n",
    "scale_mult = 4.0\n",
    "global_scale = 2*sim_range*stretch / nnodes\n",
    "knl_f = ssk.global_kernel_dict(global_scale * scale_mult)[kernel]\n",
    "nodes = np.linspace(-sim_range*stretch, sim_range*stretch, nnodes, endpoint=True)\n",
    "\n",
    "\n",
    "knl_v1s = knl_f(xs[:,0:1] - np.expand_dims(nodes,0)).numpy()\n",
    "knl_v2s = knl_f(xs[:,1:2] - np.expand_dims(nodes,0)).numpy()\n"
   ]
  },
  {
   "cell_type": "markdown",
   "metadata": {},
   "source": [
    "## Function for doing one iteration of rank-1 functional approximation"
   ]
  },
  {
   "cell_type": "code",
   "execution_count": null,
   "metadata": {},
   "outputs": [],
   "source": [
    "def rank_1_knl_approx_iter(mleft, mright, ys, wl0, wr0, reltol = 1e-4):\n",
    "\n",
    "    nnodes = mleft.shape[1] # == mright.shape[1]\n",
    "\n",
    "    reg_coef = 1e-4\n",
    "    wl_prev = wl0\n",
    "    wr_prev = wr0\n",
    "    old_rel_err = 0.0\n",
    "    while True:\n",
    "\n",
    "        # Ar = np.diag(mleft @ wl_prev) @ mright\n",
    "        Ar = np.repeat(mleft @ wl_prev.reshape(-1,1), nnodes, axis=1) * mright\n",
    "        \n",
    "        # wr = np.linalg.lstsq(Ar, ys, rcond = None)[0]\n",
    "        regrr = Ridge(alpha=reg_coef, fit_intercept=False)\n",
    "        wr = regrr.fit(Ar, ys).coef_\n",
    "        \n",
    "        # Al = np.diag(mright @ wr) @ mleft\n",
    "        Al = np.repeat(mright @ wr.reshape(-1,1), nnodes, axis=1) * mleft\n",
    "        \n",
    "        # wl = np.linalg.lstsq(Al, ys, rcond = None)[0]\n",
    "        regrl = Ridge(alpha=reg_coef, fit_intercept=False)\n",
    "        wl = regrl.fit(Al, ys).coef_\n",
    "\n",
    "        rel_err = np.linalg.norm(wl - wl_prev)/np.linalg.norm(wl_prev) + np.linalg.norm(wr - wr_prev)/np.linalg.norm(wr_prev)\n",
    "        print_rel_err = False\n",
    "        if print_rel_err: print(rel_err)\n",
    "        wl_prev = wl.copy()\n",
    "        wr_prev = wr.copy()\n",
    "        if abs(rel_err - old_rel_err) < reltol:\n",
    "            break\n",
    "        old_rel_err = rel_err\n",
    "    fit_f = lambda w1,w2 : (mleft @ w1)*(mright @ w2)\n",
    "    return wl, wr, fit_f(wl,wr), fit_f"
   ]
  },
  {
   "cell_type": "markdown",
   "metadata": {},
   "source": [
    "## Rank-n approximation\n",
    "Call rank-1 approximation successively on residuals of the previous approximation"
   ]
  },
  {
   "cell_type": "code",
   "execution_count": null,
   "metadata": {},
   "outputs": [],
   "source": [
    "def rank_n_knl_approx(mleft, mright, ys, rank, reltol = 1e-4):\n",
    "\n",
    "    ys_resid = ys\n",
    "    nsamples = len(ys)\n",
    "\n",
    "    wls = []\n",
    "    wrs = []\n",
    "    fls = []\n",
    "    frs = []\n",
    "    mses = []\n",
    "\n",
    "    for r in range(rank):\n",
    "        avw = np.sqrt(np.abs(ys).mean()/np.mean(np.abs(knl_v1s.sum(axis=1)*knl_v2s.sum(axis=1))))\n",
    "        wl_fit, wr_fit, ys_fit, fit_f = rank_1_knl_approx_iter(\n",
    "            mleft = knl_v1s, mright = knl_v2s, ys = ys_resid, wl0 = avw*np.ones(nnodes), wr0 = avw*np.ones(nnodes), reltol=reltol )\n",
    "        \n",
    "        funcl = lambda x, wl_fit = wl_fit: knl_f(np.expand_dims(x,-1) - np.expand_dims(nodes,0)).numpy() @ wl_fit\n",
    "        funcr = lambda x,wr_fit = wr_fit : knl_f(np.expand_dims(x,-1) - np.expand_dims(nodes,0)).numpy() @ wr_fit\n",
    "\n",
    "        ys_resid = ys_resid - ys_fit\n",
    "        mse = np.linalg.norm(ys_resid - ys_fit)/np.sqrt(nsamples)\n",
    "        print(f'rank-{r} mse = {mse:.4f} on step {r}')\n",
    "\n",
    "        wls.append(wl_fit)\n",
    "        wrs.append(wr_fit)\n",
    "        fls.append(funcl)\n",
    "        frs.append(funcr)\n",
    "        mses.append(mse)\n",
    "\n",
    "    fit_f = lambda w1,w2 : (mleft @ w1)*(mright @ w2)\n",
    "\n",
    "    ys_fit = np.array([fit_f(w1,w2) for w1,w2 in zip(wls,wrs)]).sum(axis=0)\n",
    "    return wls, wrs, ys_fit,fls,frs\n"
   ]
  },
  {
   "cell_type": "markdown",
   "metadata": {},
   "source": [
    "## Run the fit  and see how it looks like"
   ]
  },
  {
   "cell_type": "code",
   "execution_count": null,
   "metadata": {},
   "outputs": [],
   "source": [
    "rank = 3\n",
    "wls,wrs,ys_fit,fls,frs = rank_n_knl_approx(\n",
    "            mleft = knl_v1s, mright = knl_v2s, ys = ys, rank=rank, reltol = 1e-4)"
   ]
  },
  {
   "cell_type": "code",
   "execution_count": null,
   "metadata": {},
   "outputs": [],
   "source": [
    "%matplotlib inline\n",
    "print(f'Overall mse = {1 - np.linalg.norm(ys - ys_fit)/np.linalg.norm(ys):.4f}')\n",
    "plt.plot(ys_fit,ys,'.', label = 'actual vs fit')\n",
    "plt.legend(loc = 'best')\n",
    "plt.show()\n",
    "\n",
    "for r in range(rank):\n",
    "    plt.plot(xs[:,0], fls[r](xs[:,0]),'.', markersize = 1, label = f'left  f for r={r}')\n",
    "    plt.plot(xs[:,1], frs[r](xs[:,1]),'.', markersize = 1, label = f'right f for r={r}')\n",
    "plt.legend(loc = 'best')\n",
    "plt.show()\n"
   ]
  },
  {
   "cell_type": "code",
   "execution_count": null,
   "metadata": {},
   "outputs": [],
   "source": [
    "%matplotlib auto\n",
    "# %matplotlib inline\n",
    "\n",
    "f1 = plt.figure()\n",
    "ax = f1.add_subplot(projection='3d')\n",
    "\n",
    "ax.scatter(xs[:,0],xs[:,1],ys,  # c=ys,\n",
    "           cmap=cm.coolwarm, marker='.', s=1, alpha = 0.75, label = 'actual')\n",
    "ax.scatter(xs[:,0],xs[:,1],ys_fit,  # c=ys,\n",
    "           cmap=cm.coolwarm, marker='.', s=1, alpha = 0.75, label = 'fit')\n",
    "plt.title('Actual vs fit')\n",
    "plt.legend(loc = 'best')\n",
    "plt.show()"
   ]
  }
 ],
 "metadata": {
  "interpreter": {
   "hash": "c75fd95ee6a8673db96eeaeea4fa8e27c3cb071aef74affedb213b23408cb297"
  },
  "kernelspec": {
   "display_name": "Python 3.8.8 64-bit ('base': venv)",
   "name": "python3"
  },
  "language_info": {
   "codemirror_mode": {
    "name": "ipython",
    "version": 3
   },
   "file_extension": ".py",
   "mimetype": "text/x-python",
   "name": "python",
   "nbconvert_exporter": "python",
   "pygments_lexer": "ipython3",
   "version": "3.8.8"
  },
  "orig_nbformat": 4
 },
 "nbformat": 4,
 "nbformat_minor": 2
}
